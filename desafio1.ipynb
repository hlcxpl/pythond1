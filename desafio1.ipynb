{
 "cells": [
  {
   "cell_type": "code",
   "execution_count": 4,
   "metadata": {},
   "outputs": [
    {
     "name": "stdout",
     "output_type": "stream",
     "text": [
      "El salario total es: $ 700.0\n"
     ]
    }
   ],
   "source": [
    "# Pregunta 1\n",
    "#solocitar al usuario que ingrese el total de ventas\n",
    "totalVentas=input(\"Ingrese el total de ventas: \")\n",
    "#colocar el salario en una variable\n",
    "salario=(500)\n",
    "#parsear el valor obtenido por input y hacer el proceso de calculo\n",
    "salarioTotal= salario+(int(totalVentas)*0.1)\n",
    "#mostar el resultado\n",
    "print(\"El salario total es: $\",salarioTotal)"
   ]
  },
  {
   "cell_type": "code",
   "execution_count": 6,
   "metadata": {},
   "outputs": [
    {
     "name": "stdout",
     "output_type": "stream",
     "text": [
      "El precio de manzana es: 1.5 dolares.\n"
     ]
    }
   ],
   "source": [
    "# Pregunta 2 version con \"in\" para buscar el valor ingresado por input en el array\n",
    "# Crear el diccionario catalogo_frutas con algunas frutas y precios\n",
    "catalogo_frutas = {\n",
    "    'manzana': 1.5,\n",
    "    'banana': 2.0,\n",
    "    'naranja': 1.0,\n",
    "    'uva': 3.0\n",
    "}\n",
    "\n",
    "# Solicitar al usuario el nombre de la fruta\n",
    "fruta_buscar = input(\"Ingrese el nombre de una fruta: \")\n",
    "\n",
    "# Verificar si la fruta está en el diccionario y mostrar el precio correspondiente\n",
    "if fruta_buscar in catalogo_frutas:\n",
    "    precio_fruta = catalogo_frutas[fruta_buscar]\n",
    "    print(f\"El precio de {fruta_buscar} es: {precio_fruta} euros.\")\n",
    "else:\n",
    "    print(f\"No se encuentra la fruta {fruta_buscar} en nuestra tienda.\")\n"
   ]
  },
  {
   "cell_type": "code",
   "execution_count": 8,
   "metadata": {},
   "outputs": [
    {
     "name": "stdout",
     "output_type": "stream",
     "text": [
      "El precio de manzana es: 1.5 euros.\n"
     ]
    }
   ],
   "source": [
    "# Pregunta 2 con .\"get\" para buscar el valor ingresado por input en el array\n",
    "# Crear el diccionario catalogo_frutas con algunas frutas y precios\n",
    "catalogo_frutas = {\n",
    "    'manzana': 1.5,\n",
    "    'banana': 2.0,\n",
    "    'naranja': 1.0,\n",
    "    'uva': 3.0\n",
    "}\n",
    "\n",
    "# Solicitar al usuario el nombre de la fruta\n",
    "fruta_buscar = input(\"Ingrese el nombre de una fruta: \")\n",
    "\n",
    "# Obtener el precio de la fruta utilizando el método .get()\n",
    "precio_fruta = catalogo_frutas.get(fruta_buscar)\n",
    "\n",
    "# Verificar si la fruta está en el diccionario y mostrar el precio correspondiente\n",
    "if precio_fruta is not None:\n",
    "    print(f\"El precio de {fruta_buscar} es: {precio_fruta} euros.\")\n",
    "else:\n",
    "    print(f\"No se encuentra la fruta {fruta_buscar} en nuestra tienda.\")\n"
   ]
  },
  {
   "cell_type": "code",
   "execution_count": 9,
   "metadata": {},
   "outputs": [
    {
     "name": "stdout",
     "output_type": "stream",
     "text": [
      "Lanzamiento del dado 1: 2\n",
      "Lanzamiento del dado 2: 5\n",
      "Suma de ambos dados: 7\n"
     ]
    }
   ],
   "source": [
    "# Pregunta 3\n",
    "import random\n",
    "\n",
    "def lanzar_dados():\n",
    "    # Generar números aleatorios entre 1 y 6 para representar los lanzamientos de los dados\n",
    "    dado1 = random.randint(1, 6)\n",
    "    dado2 = random.randint(1, 6)\n",
    "\n",
    "    # Calcular la suma de los valores de los dados\n",
    "    suma_dados = dado1 + dado2\n",
    "\n",
    "    # Mostrar los valores obtenidos en cada dado y la suma en la pantalla\n",
    "    print(f\"Lanzamiento del dado 1: {dado1}\")\n",
    "    print(f\"Lanzamiento del dado 2: {dado2}\")\n",
    "    print(f\"Suma de ambos dados: {suma_dados}\")\n",
    "\n",
    "# Llamar a la función para ejecutar el juego\n",
    "lanzar_dados()\n"
   ]
  },
  {
   "cell_type": "code",
   "execution_count": 10,
   "metadata": {},
   "outputs": [
    {
     "name": "stdout",
     "output_type": "stream",
     "text": [
      "Puedes comer un máximo de 10.0 porciones de chocolate sin exceder tu límite diario de calorías.\n"
     ]
    }
   ],
   "source": [
    "# Pregunta 4\n",
    "def calcular_maximo_chocolate():\n",
    "    # Solicitar al usuario su límite diario de calorías y la cantidad de calorías por porción de chocolate\n",
    "    limite_calorias = float(input(\"Ingrese su límite diario de calorías: \"))\n",
    "    calorias_por_porcion = float(input(\"Ingrese la cantidad de calorías por porción de chocolate: \"))\n",
    "\n",
    "    # Calcular la cantidad máxima de chocolate que se puede comer sin exceder el límite diario de calorías\n",
    "    maximo_chocolate = limite_calorias // calorias_por_porcion\n",
    "\n",
    "    # Mostrar la cantidad máxima de chocolate en pantalla\n",
    "    print(f\"Puedes comer un máximo de {maximo_chocolate} porciones de chocolate sin exceder tu límite diario de calorías.\")\n",
    "\n",
    "# Llamar a la función para realizar el cálculo\n",
    "calcular_maximo_chocolate()\n"
   ]
  }
 ],
 "metadata": {
  "kernelspec": {
   "display_name": "Python 3",
   "language": "python",
   "name": "python3"
  },
  "language_info": {
   "codemirror_mode": {
    "name": "ipython",
    "version": 3
   },
   "file_extension": ".py",
   "mimetype": "text/x-python",
   "name": "python",
   "nbconvert_exporter": "python",
   "pygments_lexer": "ipython3",
   "version": "3.11.0"
  },
  "orig_nbformat": 4
 },
 "nbformat": 4,
 "nbformat_minor": 2
}
